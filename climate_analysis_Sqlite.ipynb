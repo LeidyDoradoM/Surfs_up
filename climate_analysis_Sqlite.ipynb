{
 "cells": [
  {
   "cell_type": "code",
   "execution_count": 2,
   "id": "4c375129",
   "metadata": {},
   "outputs": [],
   "source": [
    "import sqlite3"
   ]
  },
  {
   "cell_type": "code",
   "execution_count": 3,
   "id": "4ea7cd6a",
   "metadata": {},
   "outputs": [],
   "source": [
    "con = sqlite3.connect('hawaii.sqlite')"
   ]
  },
  {
   "cell_type": "code",
   "execution_count": 4,
   "id": "18345a41",
   "metadata": {},
   "outputs": [
    {
     "name": "stdout",
     "output_type": "stream",
     "text": [
      "[('measurement',), ('station',)]\n",
      "{'id': 1, 'station': 'USC00519397', 'date': '2010-01-01', 'prcp': 0.08, 'tobs': 65.0}\n",
      "{'id': 2, 'station': 'USC00519397', 'date': '2010-01-02', 'prcp': 0.0, 'tobs': 63.0}\n",
      "{'id': 3, 'station': 'USC00519397', 'date': '2010-01-03', 'prcp': 0.0, 'tobs': 74.0}\n",
      "{'id': 4, 'station': 'USC00519397', 'date': '2010-01-04', 'prcp': 0.0, 'tobs': 76.0}\n",
      "{'id': 5, 'station': 'USC00519397', 'date': '2010-01-06', 'prcp': None, 'tobs': 73.0}\n",
      "{'id': 6, 'station': 'USC00519397', 'date': '2010-01-07', 'prcp': 0.06, 'tobs': 70.0}\n",
      "{'id': 7, 'station': 'USC00519397', 'date': '2010-01-08', 'prcp': 0.0, 'tobs': 64.0}\n",
      "{'id': 8, 'station': 'USC00519397', 'date': '2010-01-09', 'prcp': 0.0, 'tobs': 68.0}\n",
      "{'id': 9, 'station': 'USC00519397', 'date': '2010-01-10', 'prcp': 0.0, 'tobs': 73.0}\n",
      "{'id': 10, 'station': 'USC00519397', 'date': '2010-01-11', 'prcp': 0.01, 'tobs': 64.0}\n",
      "Station\n",
      "\n",
      "{'id': 1, 'station': 'USC00519397', 'name': 'WAIKIKI 717.2, HI US', 'latitude': 21.2716, 'longitude': -157.8168, 'elevation': 3.0}\n",
      "{'id': 2, 'station': 'USC00513117', 'name': 'KANEOHE 838.1, HI US', 'latitude': 21.4234, 'longitude': -157.8015, 'elevation': 14.6}\n",
      "{'id': 3, 'station': 'USC00514830', 'name': 'KUALOA RANCH HEADQUARTERS 886.9, HI US', 'latitude': 21.5213, 'longitude': -157.8374, 'elevation': 7.0}\n",
      "{'id': 4, 'station': 'USC00517948', 'name': 'PEARL CITY, HI US', 'latitude': 21.3934, 'longitude': -157.9751, 'elevation': 11.9}\n",
      "{'id': 5, 'station': 'USC00518838', 'name': 'UPPER WAHIAWA 874.3, HI US', 'latitude': 21.4992, 'longitude': -158.0111, 'elevation': 306.6}\n",
      "{'id': 6, 'station': 'USC00519523', 'name': 'WAIMANALO EXPERIMENTAL FARM, HI US', 'latitude': 21.33556, 'longitude': -157.71139, 'elevation': 19.5}\n",
      "{'id': 7, 'station': 'USC00519281', 'name': 'WAIHEE 837.5, HI US', 'latitude': 21.45167, 'longitude': -157.84888999999998, 'elevation': 32.9}\n",
      "{'id': 8, 'station': 'USC00511918', 'name': 'HONOLULU OBSERVATORY 702.2, HI US', 'latitude': 21.3152, 'longitude': -157.9992, 'elevation': 0.9}\n",
      "{'id': 9, 'station': 'USC00516128', 'name': 'MANOA LYON ARBO 785.2, HI US', 'latitude': 21.3331, 'longitude': -157.8025, 'elevation': 152.4}\n"
     ]
    }
   ],
   "source": [
    "cursor = con.cursor()\n",
    "cursor.execute(\"SELECT name FROM sqlite_master WHERE type='table';\")\n",
    "print(cursor.fetchall())\n",
    "\n",
    "con.row_factory = sqlite3.Row # Give the columns names too\n",
    "cursor = con.cursor()\n",
    "rows = cursor.execute('select * from measurement limit 10;')\n",
    "for r in rows:\n",
    "    print(dict(r))\n",
    "    \n",
    "print('Station\\n')\n",
    "rows = cursor.execute('select * from station limit 10;')\n",
    "for r in rows:\n",
    "    print(dict(r))"
   ]
  },
  {
   "cell_type": "code",
   "execution_count": null,
   "id": "7d260abd",
   "metadata": {},
   "outputs": [],
   "source": []
  }
 ],
 "metadata": {
  "kernelspec": {
   "display_name": "PythonData",
   "language": "python",
   "name": "pythondata"
  },
  "language_info": {
   "codemirror_mode": {
    "name": "ipython",
    "version": 3
   },
   "file_extension": ".py",
   "mimetype": "text/x-python",
   "name": "python",
   "nbconvert_exporter": "python",
   "pygments_lexer": "ipython3",
   "version": "3.7.11"
  }
 },
 "nbformat": 4,
 "nbformat_minor": 5
}
